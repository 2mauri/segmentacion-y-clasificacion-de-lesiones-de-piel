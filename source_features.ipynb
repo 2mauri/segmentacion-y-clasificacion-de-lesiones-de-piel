{
 "cells": [
  {
   "cell_type": "code",
   "execution_count": 1,
   "metadata": {},
   "outputs": [],
   "source": [
    "import matplotlib.pyplot as plt\n",
    "import numpy as np\n",
    "from skimage.io import imread, imsave\n",
    "import cv2\n",
    "import pandas as pd\n",
    "import seaborn as sns\n",
    "import os\n",
    "from os import listdir \n",
    "from sklearn.metrics import jaccard_score\n",
    " \n",
    "from freatures_funciones import *\n",
    "\n",
    "from skimage import filters as skifilters\n",
    "from scipy import ndimage\n",
    "import skimage\n",
    "from skimage import filters"
   ]
  },
  {
   "cell_type": "markdown",
   "metadata": {},
   "source": [
    "## Extración de características"
   ]
  },
  {
   "cell_type": "markdown",
   "metadata": {},
   "source": [
    "### Funciones"
   ]
  },
  {
   "cell_type": "markdown",
   "metadata": {},
   "source": [
    "Antes de definir la función la cual extraerá las caracteristicas de cada imagen, necesitamos definir funciones auxiliares. La primera es *grey_edge*, la cual estima la iluminación de la imagen."
   ]
  },
  {
   "cell_type": "code",
   "execution_count": 2,
   "metadata": {},
   "outputs": [],
   "source": [
    "def grey_edge(image, njet=0, mink_norm=1, sigma=1):\n",
    "    \"\"\"\n",
    "    Estima el la fuente de iluminación tal como se propone en:\n",
    "    J. van de Weijer, Th. Gevers, A. Gijsenij\n",
    "    \"Edge-Based Color Constancy\"\n",
    "    IEEE Trans. Image Processing, accepted 2007.\n",
    "    Dependiendo de los parametros, la estimación es igual a Grey-World, Max-RGB, general Grey-World,\n",
    "    Shades-of-Grey o Grey-Edge algorithm.\n",
    "\n",
    "    :param image: imagen rgb (NxMx3)\n",
    "    :param njet: orden de diferenciación (range from 0-2)\n",
    "    :param mink_norm: norma minkowski norm usada (si mink_norm==-1 entonces se aplica\n",
    "     la operacion max, que equivale a tomar minkowski_norm=infinity).\n",
    "    :param sigma: sigma usado para el filtro gaussiano\n",
    "    :return: estimación de la fuente de iluminación\n",
    "    :raise: ValueError\n",
    "    \n",
    "    Ref: https://github.com/MinaSGorgy/Color-Constancy\n",
    "    \"\"\"\n",
    "    gauss_image = filters.gaussian(image, sigma=sigma, channel_axis=True)\n",
    "\n",
    "    if njet == 0:\n",
    "        deriv_image = [gauss_image[:, :, channel] for channel in range(3)]\n",
    "    else:   \n",
    "        if njet == 1:\n",
    "            deriv_filter = filters.sobel\n",
    "        elif njet == 2:\n",
    "            deriv_filter = filters.laplace\n",
    "        else:\n",
    "            raise ValueError(\"njet should be in range[0-2]! Given value is: \" + str(njet))     \n",
    "        deriv_image = [np.abs(deriv_filter(gauss_image[:, :, channel])) for channel in range(3)]\n",
    "\n",
    "    for channel in range(3):\n",
    "        deriv_image[channel][image[:, :, channel] >= 255] = 0.\n",
    "\n",
    "    if mink_norm == -1:  \n",
    "        estimating_func = np.max \n",
    "    else:\n",
    "        estimating_func = lambda x: np.power(np.sum(np.power(x, mink_norm)), 1 / mink_norm)\n",
    "    illum = [estimating_func(channel) for channel in deriv_image]\n",
    "    som   = np.sqrt(np.sum(np.power(illum, 2)))\n",
    "    illum = np.divide(illum, som)\n",
    "\n",
    "    return illum"
   ]
  },
  {
   "cell_type": "markdown",
   "metadata": {},
   "source": [
    "Tambien se define *color_constant*, la cual normaliza los colores a travez de los tres canales RGB."
   ]
  },
  {
   "cell_type": "code",
   "execution_count": 3,
   "metadata": {},
   "outputs": [],
   "source": [
    "def color_constant(img):\n",
    "    # Se separa los tres canales\n",
    "    img_R = img[:,:,0]\n",
    "    img_G = img[:,:,1]\n",
    "    img_B = img[:,:,2]    \n",
    "    \n",
    "    # Se calcula la media de cada canal y de la imagen\n",
    "    avg_R = np.mean(img_R)\n",
    "    avg_G = np.mean(img_G)\n",
    "    avg_B = np.mean(img_B)\n",
    "    avg_all = np.mean(img)\n",
    "    \n",
    "    # Dado el promedio de cada canal, se calcula su escala correspondiente\n",
    "    scale_R = (avg_all / avg_R)\n",
    "    scale_G = (avg_all / avg_G)\n",
    "    scale_B = (avg_all / avg_B)\n",
    "    \n",
    "    # Se ajusta cada canal dado su escala\n",
    "    img_new = np.zeros(img.shape)\n",
    "    img_new[:,:,0] = scale_R * img_R  \n",
    "    img_new[:,:,1] = scale_G * img_G \n",
    "    img_new[:,:,2] = scale_B * img_B  \n",
    "    \n",
    "    # Se toma el minimo y maximo \n",
    "    max_intensity = np.max(np.max(np.max(img_new)))\n",
    "    min_intensity = np.min(np.min(np.min(img_new)))\n",
    "    \n",
    "    # Dado dichos valores, se normaliza la imagen.\n",
    "    img_normalized = (((img_new - min_intensity) / (max_intensity - min_intensity))*255).astype(np.uint8)\n",
    "\n",
    "    # Perfil de iluminación (de todas formas este no se usa, pues se estima con la función *grey_edge*) \n",
    "    illuminance = [avg_R, avg_G, avg_B]\n",
    "    \n",
    "    return img_normalized, illuminance"
   ]
  },
  {
   "cell_type": "markdown",
   "metadata": {},
   "source": [
    "Para terminar con las funciones auxiliares, se define *correct_image*, la cual corrige la iluminación de la imagen dado una estimación de su perfil (de iluminación)."
   ]
  },
  {
   "cell_type": "code",
   "execution_count": 4,
   "metadata": {},
   "outputs": [],
   "source": [
    "def correct_image(image, illum):\n",
    "    \"\"\"\n",
    "    Dado el perfil de iluminación estimado, corrige la imagen.\n",
    "    \n",
    "    :param image: imagen rgb (NxMx3)\n",
    "    :param illum: perfil de iluminación estimado\n",
    "    :return: imagen corregida\n",
    "    \n",
    "    Ref: https://github.com/MinaSGorgy/Color-Constancy\n",
    "    \"\"\"\n",
    "    correcting_illum = illum * np.sqrt(3)\n",
    "    corrected_image = image / 255.\n",
    "    for channel in range(3):\n",
    "        corrected_image[:, :, channel] /= correcting_illum[channel]\n",
    "    return np.clip(corrected_image, 0., 1.)"
   ]
  },
  {
   "cell_type": "markdown",
   "metadata": {},
   "source": [
    "Con todo ya definido, creamos la función *extract_features*, la cual extrae una variedad de caracteristicas en distintos contextos. Observar que en general se extraen las mismas caracteristicas, variando solamente la imagen de entrada (se prueba extraer luego de distintas correciones o tomando la imagen en RGB o HSV).\n",
    "\n",
    "Es importante aclarar que hay funciones que estan definidas en este notebook, sino que estan presentes en el script *freatures_funciones.py*. Las mismas realizan funciones menores como calcular los momentos, obtener el LBP, calcular la entropia, etc. Simplemente se separo en otro script para simplificar la lectura del notebook."
   ]
  },
  {
   "cell_type": "code",
   "execution_count": 5,
   "metadata": {},
   "outputs": [],
   "source": [
    "def extract_features(image,mask=None):    \n",
    "    # Se separa en RGB y HSV \n",
    "    img_RGB = image\n",
    "    img_HSV = cv2.cvtColor(img_RGB, cv2.COLOR_RGB2HSV)\n",
    "    \n",
    "    img_masked_RGB = np.ma.array(np.multiply(img_RGB,   np.dstack((mask,mask,mask))), mask=~np.dstack((mask,mask,mask)))\n",
    "    img_masked_HSV = np.ma.array(np.multiply(img_HSV,   np.dstack((mask,mask,mask))), mask=~np.dstack((mask,mask,mask)))\n",
    "    \n",
    "\n",
    "    # Se aplica correción de iluminación y normalización de los canales RGB \n",
    "    img_ccRGB,_ = color_constant(image)\n",
    "    img_ccHSV   = cv2.cvtColor(img_RGB, cv2.COLOR_RGB2HSV)\n",
    "    img_ccRGB = img_ccRGB.astype(np.float64) # Debo cambiar el formato a float64, pues si no lo hago en algunas imagenes tira error.\n",
    "    img_ccHSV = img_ccHSV.astype(np.float64)\n",
    "    \n",
    "        \n",
    "    img_masked_ccRGB = np.ma.array(np.multiply(img_ccRGB,   np.dstack((mask,mask,mask))), mask=~np.dstack((mask,mask,mask))) \n",
    "    img_masked_ccHSV = np.ma.array(np.multiply(img_ccHSV,   np.dstack((mask,mask,mask))), mask=~np.dstack((mask,mask,mask))) \n",
    "    \n",
    "    img_mxRGB = (correct_image(image, grey_edge(image, njet=0, mink_norm=-1, sigma=0))*255).astype(np.uint8)\n",
    "    img_mxHSV = cv2.cvtColor(img_RGB, cv2.COLOR_RGB2HSV) \n",
    "    \n",
    "    img_masked_mxRGB = np.ma.array(np.multiply(img_mxRGB,   np.dstack((mask,mask,mask))), mask=~np.dstack((mask,mask,mask))) \n",
    "    img_masked_mxHSV = np.ma.array(np.multiply(img_mxHSV,   np.dstack((mask,mask,mask))), mask=~np.dstack((mask,mask,mask)))\n",
    "    \n",
    "\n",
    "    # Momentos \n",
    "    img_masked_RGB_CM = img_masked_RGB.astype(np.float64) # Debo cambiar el formato a float64, pues si no lo hago en algunas imagenes tira error.\n",
    "    img_masked_HSV_CM = img_masked_HSV.astype(np.float64)  \n",
    "\n",
    "    mean_R, std_R, skew_R, kurt_R, mean_G,  std_G,  skew_G,  kurt_G,  mean_B,  std_B,  skew_B,  kurt_B = momentos(img_masked_RGB_CM)\n",
    "    mean_H, std_H, skew_H, kurt_H, mean_S,  std_S,  skew_S,  kurt_S,  mean_V,  std_V,  skew_V,  kurt_V = momentos(img_masked_HSV_CM)\n",
    "\n",
    "    img_masked_ccRGB = img_masked_ccRGB.astype(np.float64) # Debo cambiar el formato a float64, pues si no lo hago en algunas imagenes tira error.\n",
    "    img_masked_ccHSV = img_masked_ccHSV.astype(np.float64)\n",
    "    \n",
    "    mean_ccR, std_ccR, skew_ccR, kurt_ccR, mean_ccG,  std_ccG,  skew_ccG,  kurt_ccG,  mean_ccB,  std_ccB,  skew_ccB,  kurt_ccB = momentos(img_masked_ccRGB)\n",
    "    mean_ccH, std_ccH, skew_ccH, kurt_ccH, mean_ccS,  std_ccS,  skew_ccS,  kurt_ccS,  mean_ccV,  std_ccV,  skew_ccV,  kurt_ccV = momentos(img_masked_ccHSV)\n",
    "\n",
    "    img_masked_mxRGB = img_masked_mxRGB.astype(np.float64) # Debo cambiar el formato a float64, pues si no lo hago en algunas imagenes tira error.\n",
    "    img_masked_mxHSV = img_masked_mxHSV.astype(np.float64)\n",
    "\n",
    "    mean_mxR, std_mxR, skew_mxR, kurt_mxR, mean_mxG,  std_mxG,  skew_mxG,  kurt_mxG,  mean_mxB,  std_mxB,  skew_mxB,  kurt_mxB = momentos(img_masked_mxRGB)\n",
    "    mean_mxH, std_mxH, skew_mxH, kurt_mxH, mean_mxS,  std_mxS,  skew_mxS,  kurt_mxS,  mean_mxV,  std_mxV,  skew_mxV,  kurt_mxV = momentos(img_masked_mxHSV)\n",
    "\n",
    "\n",
    "    # Descriptores de la matriz de coocurrencia \n",
    "    GLCM_RGB = descriptores_coocurrencia(img_masked_RGB)\n",
    "    GLCM_HSV = descriptores_coocurrencia(img_masked_HSV)\n",
    "\n",
    "    \n",
    "    # Marcadores \n",
    "    Marcador_negro, Marcador_rojo, Marcador_azulg, Marcador_blanco, Marcador_lmarron, Marcador_dmarron = marcadores_melanoma(img_masked_RGB, mask)  \n",
    "    \n",
    "    \n",
    "    # Local Binary Patterns\n",
    "    lbp_R, lbp_G, lbp_B = LBP(img_masked_RGB)\n",
    "    lbp_H, lbp_S, lbp_V = LBP(img_masked_HSV)\n",
    "        \n",
    "    LBP_CGLF  = np.concatenate((lbp_R,lbp_G,lbp_B,lbp_H,lbp_S,lbp_V),axis=0)\n",
    "    \n",
    "    \n",
    "    # Descriptores: entropia, uniformidad y suavidad.\n",
    "    entropyplus_RGB = descriptores_full(img_masked_RGB)\n",
    "    entropyplus_HSV = descriptores_full(img_masked_HSV)\n",
    "\n",
    "    \n",
    "    features = [ mean_R, std_R, skew_R, mean_G,  std_G,  skew_G,  mean_B,  std_B,  skew_B,   \n",
    "                 mean_H, std_H, skew_H, mean_S,  std_S,  skew_S,  mean_V,  std_V,  skew_V,     \n",
    "                \n",
    "                 Marcador_negro, Marcador_blanco, Marcador_lmarron, Marcador_dmarron,\n",
    "               \n",
    "                 mean_ccR, std_ccR, skew_ccR, mean_ccG,  std_ccG,  skew_ccG,  mean_ccB,  std_ccB,  skew_ccB, \n",
    "                 mean_ccH, std_ccH, skew_ccH, mean_ccS,  std_ccS,  skew_ccS,  mean_ccV,  std_ccV,  skew_ccV, \n",
    "               \n",
    "                 mean_mxR, std_mxR, skew_mxR, mean_mxG,  std_mxG,  skew_mxG,  mean_mxB,  std_mxB,  skew_mxB, \n",
    "                 mean_mxH, std_mxH, skew_mxH, mean_mxS,  std_mxS,  skew_mxS,  mean_mxV,  std_mxV,  skew_mxV ]\n",
    " \n",
    "    # Juntamos todo en una unica salida.\n",
    "    features = np.concatenate((features, GLCM_RGB, GLCM_HSV, LBP_CGLF, entropyplus_RGB, entropyplus_HSV),axis=0)\n",
    "\n",
    "    return features"
   ]
  },
  {
   "cell_type": "markdown",
   "metadata": {},
   "source": [
    "### Llamado de la función y creación del csv"
   ]
  },
  {
   "cell_type": "markdown",
   "metadata": {},
   "source": [
    "Con las funciones ya definidas, basta con recorrer las imágenes en el directorio y extraer las caracteristicas. Para comenzar, se cargan los nombres de las imagenes."
   ]
  },
  {
   "cell_type": "code",
   "execution_count": 11,
   "metadata": {},
   "outputs": [
    {
     "name": "stdout",
     "output_type": "stream",
     "text": [
      "['ISIC_0000013' 'ISIC_0000141' 'ISIC_0000160' 'ISIC_0000161'\n",
      " 'ISIC_0000164']\n"
     ]
    },
    {
     "data": {
      "text/html": [
       "<div>\n",
       "<style scoped>\n",
       "    .dataframe tbody tr th:only-of-type {\n",
       "        vertical-align: middle;\n",
       "    }\n",
       "\n",
       "    .dataframe tbody tr th {\n",
       "        vertical-align: top;\n",
       "    }\n",
       "\n",
       "    .dataframe thead th {\n",
       "        text-align: right;\n",
       "    }\n",
       "</style>\n",
       "<table border=\"1\" class=\"dataframe\">\n",
       "  <thead>\n",
       "    <tr style=\"text-align: right;\">\n",
       "      <th></th>\n",
       "      <th>0</th>\n",
       "      <th>1</th>\n",
       "    </tr>\n",
       "  </thead>\n",
       "  <tbody>\n",
       "    <tr>\n",
       "      <th>0</th>\n",
       "      <td>ISIC_0000013</td>\n",
       "      <td>1</td>\n",
       "    </tr>\n",
       "    <tr>\n",
       "      <th>1</th>\n",
       "      <td>ISIC_0000141</td>\n",
       "      <td>1</td>\n",
       "    </tr>\n",
       "    <tr>\n",
       "      <th>2</th>\n",
       "      <td>ISIC_0000160</td>\n",
       "      <td>1</td>\n",
       "    </tr>\n",
       "    <tr>\n",
       "      <th>3</th>\n",
       "      <td>ISIC_0000161</td>\n",
       "      <td>1</td>\n",
       "    </tr>\n",
       "    <tr>\n",
       "      <th>4</th>\n",
       "      <td>ISIC_0000164</td>\n",
       "      <td>1</td>\n",
       "    </tr>\n",
       "  </tbody>\n",
       "</table>\n",
       "</div>"
      ],
      "text/plain": [
       "              0  1\n",
       "0  ISIC_0000013  1\n",
       "1  ISIC_0000141  1\n",
       "2  ISIC_0000160  1\n",
       "3  ISIC_0000161  1\n",
       "4  ISIC_0000164  1"
      ]
     },
     "execution_count": 11,
     "metadata": {},
     "output_type": "execute_result"
    }
   ],
   "source": [
    "dir_img_train = 'Subconjunto_2018/images/'\n",
    "dir_seg_train = 'Subconjunto_2018/masks/'\n",
    "\n",
    "name_csv = pd.read_csv('Subconjunto_2018/list.csv', header=None)\n",
    "name_list_train = name_csv.iloc[:,0].values\n",
    "\n",
    "print(name_list_train[:5])\n",
    "name_csv.head()"
   ]
  },
  {
   "cell_type": "markdown",
   "metadata": {},
   "source": [
    "Finalmente, extraemos las caracteristicas de cada imagen y las guardamos en un .csv llamado *features_subconjunto_2018.csv*. La corrida de la próxima celda podria demorar unos minutos."
   ]
  },
  {
   "cell_type": "code",
   "execution_count": 13,
   "metadata": {},
   "outputs": [],
   "source": [
    "df = pd.DataFrame() # Inicializo el DataFrame\n",
    "\n",
    "for name in name_list_train: # Recorro todas las imagenes\n",
    "    img = imread(dir_img_train+name+'.jpg')\n",
    "    img_seg = imread(dir_seg_train+name+'_Segmentation.png')\n",
    "\n",
    "    features = extract_features(img,img_seg)\n",
    "    features = features.reshape(1,features.size)\n",
    "\n",
    "    descriptores = pd.DataFrame(features)\n",
    "\n",
    "    df = pd.concat([df,descriptores])\n",
    "    \n",
    "data_img = name_csv.copy()\n",
    "\n",
    "df = df.reset_index(drop=True)\n",
    "df = pd.concat([data_img,df],axis=1)\n",
    "\n",
    "# Se le cambia el nombre a las columnas. Si no hacemos esto vamos a tener problemas al evaluar con el modelo.\n",
    "# Para esto leo otro .csv que tiene las columnas con el nombre correcto.\n",
    "col_names_df = pd.read_csv('features/features_subconjunto_2018_nuestra_segmentacion_mask.csv') \n",
    "df = pd.DataFrame(data=df.values, columns=col_names_df.columns) \n",
    "\n",
    "df.to_csv('features_subconjunto_2018.csv', index=False) # Guardo el .csv"
   ]
  }
 ],
 "metadata": {
  "kernelspec": {
   "display_name": "Python 3 (ipykernel)",
   "language": "python",
   "name": "python3"
  },
  "language_info": {
   "codemirror_mode": {
    "name": "ipython",
    "version": 3
   },
   "file_extension": ".py",
   "mimetype": "text/x-python",
   "name": "python",
   "nbconvert_exporter": "python",
   "pygments_lexer": "ipython3",
   "version": "3.11.0"
  },
  "orig_nbformat": 4
 },
 "nbformat": 4,
 "nbformat_minor": 2
}
