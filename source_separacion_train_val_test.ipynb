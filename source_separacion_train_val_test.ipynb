{
 "cells": [
  {
   "cell_type": "code",
   "execution_count": 1,
   "metadata": {},
   "outputs": [],
   "source": [
    "import pandas as pd\n",
    "from sklearn.model_selection import train_test_split\n",
    "import numpy as np\n",
    "import os\n",
    "from skimage.io import imread, imsave\n",
    "import matplotlib.pyplot as plt\n"
   ]
  },
  {
   "cell_type": "markdown",
   "metadata": {},
   "source": [
    "## Separación en conjunto de entrenamiento, validación y prueba"
   ]
  },
  {
   "cell_type": "markdown",
   "metadata": {},
   "source": [
    "En este notebook se presentara el codigo utilizado para separar los datos en tres conjuntos. Es importante notar que correr el codigo provocara un error, pues la base de datos no esta subida al GitLab. Este notebook es solamente expositivo."
   ]
  },
  {
   "cell_type": "markdown",
   "metadata": {},
   "source": [
    "Se definen las rutas relevantes."
   ]
  },
  {
   "cell_type": "code",
   "execution_count": 19,
   "metadata": {},
   "outputs": [],
   "source": [
    "ruta_csv = 'ISIC-2017_Training_Part3_GroundTruth.csv'\n",
    "ruta_imagenes = 'ISIC-2017_Training_procesado'"
   ]
  },
  {
   "cell_type": "markdown",
   "metadata": {},
   "source": [
    "Para comenzar, se separa el .csv en tres archivos distintos. Uno para entrenamiento, otro para validación y un ultimo para prueba. Primero se define la función *get_dataset*, que hace justamente esto."
   ]
  },
  {
   "cell_type": "code",
   "execution_count": 111,
   "metadata": {},
   "outputs": [],
   "source": [
    "def get_dataset(ruta_imagenes, ruta_csv):\n",
    "    \n",
    "    # Leo csv\n",
    "    datos = pd.read_csv(ruta_csv)\n",
    "\n",
    "    # Veo nombre de imágenes en la sub-base\n",
    "    files = os.listdir(ruta_imagenes)\n",
    "    img_subb = []\n",
    "    for nombre in files:\n",
    "        img_subb.append(nombre.split('_procesado.jpg')[0])\n",
    "\n",
    "    # Creo nuevo dataframe \n",
    "    dataset = datos[datos['image_id'].isin(img_subb)]\n",
    "    dataset = dataset.drop('seborrheic_keratosis', axis = 1)\n",
    "\n",
    "    # Separo en data y etiquetas\n",
    "    labels = dataset['melanoma'].values\n",
    "    data = dataset.drop('melanoma', axis = 1)\n",
    "\n",
    "    # Separo manteniendo la proporción entre las clases\n",
    "    X_train, X_test, y_train, y_test = train_test_split(data, labels, test_size=0.3, stratify=labels, random_state=42)\n",
    "    X_train, X_val, y_train, y_val = train_test_split(X_train, y_train, test_size=0.15, stratify=y_train, random_state=42)\n",
    "\n",
    "    train = X_train.copy()\n",
    "    train['melanoma'] = y_train\n",
    "\n",
    "    val = X_val.copy()\n",
    "    val['melanoma'] = y_val\n",
    "\n",
    "    test = X_test.copy()\n",
    "    test['melanoma'] = y_test\n",
    "\n",
    "    return train, val, test"
   ]
  },
  {
   "cell_type": "markdown",
   "metadata": {},
   "source": [
    "Realizo la separación y guardo los DataFrames en tres .csv distintos."
   ]
  },
  {
   "cell_type": "code",
   "execution_count": 112,
   "metadata": {},
   "outputs": [],
   "source": [
    "train, val, test = get_dataset(ruta_imagenes, ruta_csv)\n",
    "\n",
    "train.to_csv('train.csv', index=False)\n",
    "val.to_csv('val.csv', index=False)\n",
    "test.to_csv('test.csv', index=False)"
   ]
  },
  {
   "cell_type": "markdown",
   "metadata": {},
   "source": [
    "A continuación se muestra la proporcion de cada clase en los 3 conjuntos. Se tuvo cuidado de realizar una separación estratificada, por lo que las proporciones son similares."
   ]
  },
  {
   "cell_type": "code",
   "execution_count": 113,
   "metadata": {},
   "outputs": [
    {
     "name": "stdout",
     "output_type": "stream",
     "text": [
      "----> Train\n",
      "826\n",
      "205\n",
      "Proporcion:  0.24818401937046006\n",
      "----> Val\n",
      "147\n",
      "36\n",
      "Proporcion:  0.24489795918367346\n",
      "----> Test\n",
      "417\n",
      "104\n",
      "Proporcion:  0.24940047961630696\n"
     ]
    }
   ],
   "source": [
    "print('----> Train')\n",
    "print(np.sum(train['melanoma'].values == 0))\n",
    "print(np.sum(train['melanoma'].values == 1))\n",
    "print('Proporcion: ', np.sum(train['melanoma'].values == 1)/np.sum(train['melanoma'].values == 0))\n",
    "\n",
    "print('----> Val')\n",
    "print(np.sum(val['melanoma'].values == 0))\n",
    "print(np.sum(val['melanoma'].values == 1))\n",
    "print('Proporcion: ', np.sum(val['melanoma'].values == 1)/np.sum(val['melanoma'].values == 0))\n",
    "\n",
    "print('----> Test')\n",
    "print(np.sum(test['melanoma'].values == 0))\n",
    "print(np.sum(test['melanoma'].values == 1))\n",
    "print('Proporcion: ', np.sum(test['melanoma'].values == 1)/np.sum(test['melanoma'].values == 0))"
   ]
  },
  {
   "cell_type": "markdown",
   "metadata": {},
   "source": [
    "Ahora falta separar las imagenes en sus carpetas respectivas. Para comenzar, se definen los directorios relevantes."
   ]
  },
  {
   "cell_type": "code",
   "execution_count": 124,
   "metadata": {},
   "outputs": [],
   "source": [
    "carpeta_origen = 'ISIC-2017_Training_procesado'\n",
    "carpeta_destino_train = 'Train'\n",
    "carpeta_destino_val = 'Val'\n",
    "carpeta_destino_test = 'Test'"
   ]
  },
  {
   "cell_type": "markdown",
   "metadata": {},
   "source": [
    "Comenzando por las imagenes de train, las movemos a la carpeta llamada *Train*."
   ]
  },
  {
   "cell_type": "code",
   "execution_count": 125,
   "metadata": {},
   "outputs": [],
   "source": [
    "if not os.path.exists(carpeta_destino_train):\n",
    "    os.makedirs(carpeta_destino_train)\n",
    "\n",
    "for name in train['image_id']:\n",
    "    file = name + '_procesado.jpg'\n",
    "    input_path = os.path.join(carpeta_origen, file)\n",
    "    I = imread(input_path)\n",
    "    output_path = os.path.join(carpeta_destino_train, name + '.jpg')\n",
    "    plt.imsave(output_path, I)\n"
   ]
  },
  {
   "cell_type": "markdown",
   "metadata": {},
   "source": [
    "Pasando a las imagenes de validación, las movemos a la carpeta llamada *Val*."
   ]
  },
  {
   "cell_type": "code",
   "execution_count": 127,
   "metadata": {},
   "outputs": [],
   "source": [
    "if not os.path.exists(carpeta_destino_val):\n",
    "    os.makedirs(carpeta_destino_val)\n",
    "\n",
    "for name in val['image_id']:\n",
    "    file = name + '_procesado.jpg'\n",
    "    input_path = os.path.join(carpeta_origen, file)\n",
    "    I = imread(input_path)\n",
    "    output_path = os.path.join(carpeta_destino_val, name + '.jpg')\n",
    "    plt.imsave(output_path, I)"
   ]
  },
  {
   "cell_type": "markdown",
   "metadata": {},
   "source": [
    "Para terminar, movemos las imagenes asociadas al conjunto de prueba a *Test*."
   ]
  },
  {
   "cell_type": "code",
   "execution_count": 128,
   "metadata": {},
   "outputs": [],
   "source": [
    "if not os.path.exists(carpeta_destino_test):\n",
    "    os.makedirs(carpeta_destino_test)\n",
    "\n",
    "for name in test['image_id']:\n",
    "    file = name + '_procesado.jpg'\n",
    "    input_path = os.path.join(carpeta_origen, file)\n",
    "    I = imread(input_path)\n",
    "    output_path = os.path.join(carpeta_destino_test, name + '.jpg')\n",
    "    plt.imsave(output_path, I)\n"
   ]
  },
  {
   "cell_type": "markdown",
   "metadata": {},
   "source": [
    "Finalmente, se separa el ground truth de igual manera que las imagenes."
   ]
  },
  {
   "cell_type": "code",
   "execution_count": 12,
   "metadata": {},
   "outputs": [],
   "source": [
    "# Ahora separo el ground truth para train, val y test\n",
    "carpeta_origen = 'Train'\n",
    "carpeta_donde_buscar = 'cosas/ISIC-2017_Training_Part1_GroundTruth'\n",
    "carpeta_destino = 'Train_Ground_Truth'\n",
    "\n",
    "if not os.path.exists(carpeta_destino):\n",
    "    os.makedirs(carpeta_destino)\n",
    "\n",
    "files = os.listdir(carpeta_origen)\n",
    "for name in files:\n",
    "    segmentation = name.split('.')[0] + '_segmentation.png'\n",
    "    ruta = input_path = os.path.join(carpeta_donde_buscar, segmentation)\n",
    "    I = imread(ruta)\n",
    "    output_path = os.path.join(carpeta_destino, segmentation)\n",
    "    plt.imsave(output_path, I, cmap = 'gray')"
   ]
  },
  {
   "cell_type": "code",
   "execution_count": null,
   "metadata": {},
   "outputs": [],
   "source": [
    "carpeta_origen = 'Val'\n",
    "carpeta_donde_buscar = 'cosas/ISIC-2017_Training_Part1_GroundTruth'\n",
    "carpeta_destino = 'Val_Ground_Truth'\n",
    "\n",
    "if not os.path.exists(carpeta_destino):\n",
    "    os.makedirs(carpeta_destino)\n",
    "\n",
    "files = os.listdir(carpeta_origen)\n",
    "for name in files:\n",
    "    segmentation = name.split('.')[0] + '_segmentation.png'\n",
    "    ruta = input_path = os.path.join(carpeta_donde_buscar, segmentation)\n",
    "    I = imread(ruta)\n",
    "    output_path = os.path.join(carpeta_destino, segmentation)\n",
    "    plt.imsave(output_path, I, cmap = 'gray')"
   ]
  },
  {
   "cell_type": "code",
   "execution_count": null,
   "metadata": {},
   "outputs": [],
   "source": [
    "carpeta_origen = 'Test'\n",
    "carpeta_donde_buscar = 'cosas/ISIC-2017_Training_Part1_GroundTruth'\n",
    "carpeta_destino = 'Test_Ground_Truth'\n",
    "\n",
    "if not os.path.exists(carpeta_destino):\n",
    "    os.makedirs(carpeta_destino)\n",
    "\n",
    "files = os.listdir(carpeta_origen)\n",
    "for name in files:\n",
    "    segmentation = name.split('.')[0] + '_segmentation.png'\n",
    "    ruta = input_path = os.path.join(carpeta_donde_buscar, segmentation)\n",
    "    I = imread(ruta)\n",
    "    output_path = os.path.join(carpeta_destino, segmentation)\n",
    "    plt.imsave(output_path, I, cmap = 'gray')"
   ]
  },
  {
   "cell_type": "markdown",
   "metadata": {},
   "source": [
    "A continuación se muestra de manera grafica la cantidad de elemntos de cada clase en los conjuntos de entrenamiento y validación. La clase \"0\" corresponde a las lesiones benignas y la clase \"1\" a las malignas."
   ]
  },
  {
   "cell_type": "code",
   "execution_count": 2,
   "metadata": {},
   "outputs": [],
   "source": [
    "train = pd.read_csv('train.csv')\n",
    "val = pd.read_csv('val.csv')"
   ]
  },
  {
   "cell_type": "code",
   "execution_count": 9,
   "metadata": {},
   "outputs": [],
   "source": [
    "train_cantidad = np.array([826, 205])\n",
    "val_cantidad = np.array([147, 36])\n",
    "clase = np.array([0, 1])\n"
   ]
  },
  {
   "cell_type": "code",
   "execution_count": 22,
   "metadata": {},
   "outputs": [
    {
     "data": {
      "text/plain": [
       "<matplotlib.legend.Legend at 0x1bd6440ff10>"
      ]
     },
     "execution_count": 22,
     "metadata": {},
     "output_type": "execute_result"
    },
    {
     "data": {
      "image/png": "[encoded data removed]",
      "text/plain": [
       "<Figure size 700x600 with 1 Axes>"
      ]
     },
     "metadata": {},
     "output_type": "display_data"
    }
   ],
   "source": [
    "plt.figure(figsize=(7,6))\n",
    "plt.bar(clase, train_cantidad, color = 'blue', label = 'Train', alpha = 0.7)\n",
    "plt.xlabel('Nivel', fontsize = 15)\n",
    "plt.ylabel('Cantidad de datos', fontsize = 15)\n",
    "plt.grid(alpha = 0.15)\n",
    "plt.tick_params(axis='both', labelsize=15) \n",
    "plt.bar(clase, val_cantidad, color = 'orange', label = 'Val', alpha = 0.9)\n",
    "plt.xlabel('Clase')\n",
    "plt.xticks([0, 1])\n",
    "plt.ylabel('Cantidad de datos')\n",
    "plt.legend(fontsize = 12)"
   ]
  }
 ],
 "metadata": {
  "kernelspec": {
   "display_name": "timag",
   "language": "python",
   "name": "python3"
  },
  "language_info": {
   "codemirror_mode": {
    "name": "ipython",
    "version": 3
   },
   "file_extension": ".py",
   "mimetype": "text/x-python",
   "name": "python",
   "nbconvert_exporter": "python",
   "pygments_lexer": "ipython3",
   "version": "3.11.0"
  },
  "orig_nbformat": 4
 },
 "nbformat": 4,
 "nbformat_minor": 2
}
